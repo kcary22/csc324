{
  "nbformat": 4,
  "nbformat_minor": 5,
  "metadata": {
    "kernelspec": {
      "display_name": "Python 3",
      "language": "python",
      "name": "python3"
    },
    "language_info": {
      "codemirror_mode": {
        "name": "ipython",
        "version": 3
      },
      "file_extension": ".py",
      "mimetype": "text/x-python",
      "name": "python",
      "nbconvert_exporter": "python",
      "pygments_lexer": "ipython3",
      "version": "3.8.3"
    },
    "colab": {
      "name": "Copy of student_exams_assignment.ipynb",
      "provenance": [],
      "collapsed_sections": []
    }
  },
  "cells": [
    {
      "cell_type": "code",
      "metadata": {
        "id": "celtic-technique"
      },
      "source": [
        ""
      ],
      "id": "celtic-technique",
      "execution_count": null,
      "outputs": []
    },
    {
      "cell_type": "markdown",
      "metadata": {
        "id": "embedded-blame"
      },
      "source": [
        "## Introduction\n",
        "\n",
        "To know which factor may affect the student's performance, we classify the score into couple of ranks, and figure out which feature affects the score more significant. The independent variables are follow:\n",
        "\n",
        "1. gender : sex of students\n",
        "2. race/ethnicity : ethnicity of students\n",
        "3. parental level of education : parents' final education\n",
        "4. lunch : having lunch before test (normal or abnormal)\n",
        "5. test preparation course : complete or not complete before test"
      ],
      "id": "embedded-blame"
    },
    {
      "cell_type": "code",
      "metadata": {
        "_kg_hide-input": false,
        "_uuid": "67f4eb0b221d82a042603cf5ced2d9121ec55a79",
        "id": "affiliated-emergency"
      },
      "source": [
        "import seaborn as sns\n",
        "import matplotlib.pyplot as plt \n",
        "import os \n",
        "import pandas as pd \n",
        "import numpy as np\n",
        "from sklearn.preprocessing import LabelEncoder\n",
        "from sklearn.cluster import KMeans"
      ],
      "id": "affiliated-emergency",
      "execution_count": null,
      "outputs": []
    },
    {
      "cell_type": "markdown",
      "metadata": {
        "id": "subsequent-isolation"
      },
      "source": [
        "Let's see how many datasets in this topic."
      ],
      "id": "subsequent-isolation"
    },
    {
      "cell_type": "code",
      "metadata": {
        "id": "declared-theory",
        "colab": {
          "base_uri": "https://localhost:8080/"
        },
        "outputId": "c30f87a4-5cdd-4385-d266-2444307ac926"
      },
      "source": [
        "os.listdir(\".\")"
      ],
      "id": "declared-theory",
      "execution_count": null,
      "outputs": [
        {
          "output_type": "execute_result",
          "data": {
            "text/plain": [
              "['.config', 'exam_results.csv', 'sample_data']"
            ]
          },
          "metadata": {},
          "execution_count": 37
        }
      ]
    },
    {
      "cell_type": "markdown",
      "metadata": {
        "_uuid": "c9e96facc35f044491749d60e7994cc9848e9621",
        "id": "canadian-highlight"
      },
      "source": [
        "Only one! Take a look at the dataset.\n"
      ],
      "id": "canadian-highlight"
    },
    {
      "cell_type": "code",
      "metadata": {
        "_kg_hide-input": true,
        "_uuid": "da18ccc6cf02c0fbf13e219512f429f415bdeb0f",
        "id": "instrumental-thesis",
        "colab": {
          "base_uri": "https://localhost:8080/",
          "height": 203
        },
        "outputId": "ed323320-99f2-4fa7-8549-4c24cf7a6398"
      },
      "source": [
        "filename = \"exam_results.csv\"\n",
        "score_df = pd.read_csv(filename)\n",
        "score_df.head()"
      ],
      "id": "instrumental-thesis",
      "execution_count": null,
      "outputs": [
        {
          "output_type": "execute_result",
          "data": {
            "text/html": [
              "<div>\n",
              "<style scoped>\n",
              "    .dataframe tbody tr th:only-of-type {\n",
              "        vertical-align: middle;\n",
              "    }\n",
              "\n",
              "    .dataframe tbody tr th {\n",
              "        vertical-align: top;\n",
              "    }\n",
              "\n",
              "    .dataframe thead th {\n",
              "        text-align: right;\n",
              "    }\n",
              "</style>\n",
              "<table border=\"1\" class=\"dataframe\">\n",
              "  <thead>\n",
              "    <tr style=\"text-align: right;\">\n",
              "      <th></th>\n",
              "      <th>gender</th>\n",
              "      <th>race/ethnicity</th>\n",
              "      <th>parental level of education</th>\n",
              "      <th>lunch</th>\n",
              "      <th>test preparation course</th>\n",
              "      <th>math score</th>\n",
              "      <th>reading score</th>\n",
              "      <th>writing score</th>\n",
              "    </tr>\n",
              "  </thead>\n",
              "  <tbody>\n",
              "    <tr>\n",
              "      <th>0</th>\n",
              "      <td>female</td>\n",
              "      <td>group B</td>\n",
              "      <td>bachelor's degree</td>\n",
              "      <td>standard</td>\n",
              "      <td>none</td>\n",
              "      <td>72</td>\n",
              "      <td>72</td>\n",
              "      <td>74</td>\n",
              "    </tr>\n",
              "    <tr>\n",
              "      <th>1</th>\n",
              "      <td>female</td>\n",
              "      <td>group C</td>\n",
              "      <td>some college</td>\n",
              "      <td>standard</td>\n",
              "      <td>completed</td>\n",
              "      <td>69</td>\n",
              "      <td>90</td>\n",
              "      <td>88</td>\n",
              "    </tr>\n",
              "    <tr>\n",
              "      <th>2</th>\n",
              "      <td>female</td>\n",
              "      <td>group B</td>\n",
              "      <td>master's degree</td>\n",
              "      <td>standard</td>\n",
              "      <td>none</td>\n",
              "      <td>90</td>\n",
              "      <td>95</td>\n",
              "      <td>93</td>\n",
              "    </tr>\n",
              "    <tr>\n",
              "      <th>3</th>\n",
              "      <td>male</td>\n",
              "      <td>group A</td>\n",
              "      <td>associate's degree</td>\n",
              "      <td>free/reduced</td>\n",
              "      <td>none</td>\n",
              "      <td>47</td>\n",
              "      <td>57</td>\n",
              "      <td>44</td>\n",
              "    </tr>\n",
              "    <tr>\n",
              "      <th>4</th>\n",
              "      <td>male</td>\n",
              "      <td>group C</td>\n",
              "      <td>some college</td>\n",
              "      <td>standard</td>\n",
              "      <td>none</td>\n",
              "      <td>76</td>\n",
              "      <td>78</td>\n",
              "      <td>75</td>\n",
              "    </tr>\n",
              "  </tbody>\n",
              "</table>\n",
              "</div>"
            ],
            "text/plain": [
              "   gender race/ethnicity  ... reading score writing score\n",
              "0  female        group B  ...            72            74\n",
              "1  female        group C  ...            90            88\n",
              "2  female        group B  ...            95            93\n",
              "3    male        group A  ...            57            44\n",
              "4    male        group C  ...            78            75\n",
              "\n",
              "[5 rows x 8 columns]"
            ]
          },
          "metadata": {},
          "execution_count": 38
        }
      ]
    },
    {
      "cell_type": "markdown",
      "metadata": {
        "_uuid": "2f30aea7ac348b3a038ef7a309a2dede61ad677f",
        "id": "suffering-savage"
      },
      "source": [
        "Some column names are too long, rename the column names to be simpler. "
      ],
      "id": "suffering-savage"
    },
    {
      "cell_type": "code",
      "metadata": {
        "_kg_hide-input": true,
        "_uuid": "6c6104c26d8abb0104aac9b38ca1011e1d9cb544",
        "id": "alternative-panic",
        "colab": {
          "base_uri": "https://localhost:8080/",
          "height": 203
        },
        "outputId": "6bb10978-fc91-4487-a4d1-e34deac2156e"
      },
      "source": [
        "score_df.rename(columns={\"race/ethnicity\":\"ethnicity\",\"parental level of education\":\"parent_education\"\n",
        "                    ,\"math score\":\"math\",\"reading score\":\"reading\",\"writing score\":\"writing\",\n",
        "                    \"test preparation course\":\"pre\"},inplace=True)\n",
        "score_df.head()"
      ],
      "id": "alternative-panic",
      "execution_count": null,
      "outputs": [
        {
          "output_type": "execute_result",
          "data": {
            "text/html": [
              "<div>\n",
              "<style scoped>\n",
              "    .dataframe tbody tr th:only-of-type {\n",
              "        vertical-align: middle;\n",
              "    }\n",
              "\n",
              "    .dataframe tbody tr th {\n",
              "        vertical-align: top;\n",
              "    }\n",
              "\n",
              "    .dataframe thead th {\n",
              "        text-align: right;\n",
              "    }\n",
              "</style>\n",
              "<table border=\"1\" class=\"dataframe\">\n",
              "  <thead>\n",
              "    <tr style=\"text-align: right;\">\n",
              "      <th></th>\n",
              "      <th>gender</th>\n",
              "      <th>ethnicity</th>\n",
              "      <th>parent_education</th>\n",
              "      <th>lunch</th>\n",
              "      <th>pre</th>\n",
              "      <th>math</th>\n",
              "      <th>reading</th>\n",
              "      <th>writing</th>\n",
              "    </tr>\n",
              "  </thead>\n",
              "  <tbody>\n",
              "    <tr>\n",
              "      <th>0</th>\n",
              "      <td>female</td>\n",
              "      <td>group B</td>\n",
              "      <td>bachelor's degree</td>\n",
              "      <td>standard</td>\n",
              "      <td>none</td>\n",
              "      <td>72</td>\n",
              "      <td>72</td>\n",
              "      <td>74</td>\n",
              "    </tr>\n",
              "    <tr>\n",
              "      <th>1</th>\n",
              "      <td>female</td>\n",
              "      <td>group C</td>\n",
              "      <td>some college</td>\n",
              "      <td>standard</td>\n",
              "      <td>completed</td>\n",
              "      <td>69</td>\n",
              "      <td>90</td>\n",
              "      <td>88</td>\n",
              "    </tr>\n",
              "    <tr>\n",
              "      <th>2</th>\n",
              "      <td>female</td>\n",
              "      <td>group B</td>\n",
              "      <td>master's degree</td>\n",
              "      <td>standard</td>\n",
              "      <td>none</td>\n",
              "      <td>90</td>\n",
              "      <td>95</td>\n",
              "      <td>93</td>\n",
              "    </tr>\n",
              "    <tr>\n",
              "      <th>3</th>\n",
              "      <td>male</td>\n",
              "      <td>group A</td>\n",
              "      <td>associate's degree</td>\n",
              "      <td>free/reduced</td>\n",
              "      <td>none</td>\n",
              "      <td>47</td>\n",
              "      <td>57</td>\n",
              "      <td>44</td>\n",
              "    </tr>\n",
              "    <tr>\n",
              "      <th>4</th>\n",
              "      <td>male</td>\n",
              "      <td>group C</td>\n",
              "      <td>some college</td>\n",
              "      <td>standard</td>\n",
              "      <td>none</td>\n",
              "      <td>76</td>\n",
              "      <td>78</td>\n",
              "      <td>75</td>\n",
              "    </tr>\n",
              "  </tbody>\n",
              "</table>\n",
              "</div>"
            ],
            "text/plain": [
              "   gender ethnicity    parent_education  ... math reading  writing\n",
              "0  female   group B   bachelor's degree  ...   72      72       74\n",
              "1  female   group C        some college  ...   69      90       88\n",
              "2  female   group B     master's degree  ...   90      95       93\n",
              "3    male   group A  associate's degree  ...   47      57       44\n",
              "4    male   group C        some college  ...   76      78       75\n",
              "\n",
              "[5 rows x 8 columns]"
            ]
          },
          "metadata": {},
          "execution_count": 39
        }
      ]
    },
    {
      "cell_type": "markdown",
      "metadata": {
        "id": "pediatric-miniature"
      },
      "source": [
        "Seems clearly. Check the data type."
      ],
      "id": "pediatric-miniature"
    },
    {
      "cell_type": "code",
      "metadata": {
        "id": "external-example",
        "colab": {
          "base_uri": "https://localhost:8080/"
        },
        "outputId": "ce1bd023-cefd-4281-f070-ffa64e353d7f"
      },
      "source": [
        "score_df.dtypes"
      ],
      "id": "external-example",
      "execution_count": null,
      "outputs": [
        {
          "output_type": "execute_result",
          "data": {
            "text/plain": [
              "gender              object\n",
              "ethnicity           object\n",
              "parent_education    object\n",
              "lunch               object\n",
              "pre                 object\n",
              "math                 int64\n",
              "reading              int64\n",
              "writing              int64\n",
              "dtype: object"
            ]
          },
          "metadata": {},
          "execution_count": 40
        }
      ]
    },
    {
      "cell_type": "markdown",
      "metadata": {
        "id": "classified-powell"
      },
      "source": [
        "Plotting the average scores per gender. Use a Matplotlib Barplot"
      ],
      "id": "classified-powell"
    },
    {
      "cell_type": "markdown",
      "metadata": {
        "id": "metric-sandwich"
      },
      "source": [
        "Plot the average scores per category of \"lunch\" and \"pre\". Use a seaborn boxplot chart."
      ],
      "id": "metric-sandwich"
    },
    {
      "cell_type": "markdown",
      "metadata": {
        "id": "sufficient-engineering"
      },
      "source": [
        ""
      ],
      "id": "sufficient-engineering"
    },
    {
      "cell_type": "code",
      "metadata": {
        "colab": {
          "base_uri": "https://localhost:8080/"
        },
        "id": "a_QjND3zryGv",
        "outputId": "c9474a6c-3caf-4a7d-ed82-4e691c8590ca"
      },
      "source": [
        "score_df.groupby(\"gender\")[list(score_df.columns[-3:])[0]].mean()"
      ],
      "id": "a_QjND3zryGv",
      "execution_count": null,
      "outputs": [
        {
          "output_type": "execute_result",
          "data": {
            "text/plain": [
              "gender\n",
              "female    63.633205\n",
              "male      68.728216\n",
              "Name: math, dtype: float64"
            ]
          },
          "metadata": {},
          "execution_count": 41
        }
      ]
    },
    {
      "cell_type": "code",
      "metadata": {
        "id": "2kYRkjYssNRV",
        "colab": {
          "base_uri": "https://localhost:8080/"
        },
        "outputId": "5f4ef46f-240f-4c56-a301-113c78cca438"
      },
      "source": [
        "score_df.groupby(\"gender\")[list(score_df.columns[-3:])[1]].mean()"
      ],
      "id": "2kYRkjYssNRV",
      "execution_count": null,
      "outputs": [
        {
          "output_type": "execute_result",
          "data": {
            "text/plain": [
              "gender\n",
              "female    72.608108\n",
              "male      65.473029\n",
              "Name: reading, dtype: float64"
            ]
          },
          "metadata": {},
          "execution_count": 42
        }
      ]
    },
    {
      "cell_type": "code",
      "metadata": {
        "id": "GM5Wdev6sX25",
        "colab": {
          "base_uri": "https://localhost:8080/"
        },
        "outputId": "45ea453d-6a0c-48d9-e83b-1adcfb62a76e"
      },
      "source": [
        "score_df.groupby(\"gender\")[list(score_df.columns[-3:])[2]].mean()"
      ],
      "id": "GM5Wdev6sX25",
      "execution_count": null,
      "outputs": [
        {
          "output_type": "execute_result",
          "data": {
            "text/plain": [
              "gender\n",
              "female    72.467181\n",
              "male      63.311203\n",
              "Name: writing, dtype: float64"
            ]
          },
          "metadata": {},
          "execution_count": 43
        }
      ]
    },
    {
      "cell_type": "code",
      "metadata": {
        "id": "LWBV6y1iser8",
        "colab": {
          "base_uri": "https://localhost:8080/",
          "height": 297
        },
        "outputId": "1cbb9c68-0117-4f9e-86fc-c74ef6cae545"
      },
      "source": [
        "import matplotlib.pyplot as plt\n",
        "import numpy as np\n",
        "\n",
        "\n",
        "labels = ['math', 'reading', 'writing']\n",
        "men_means = [69, 65, 63]\n",
        "women_means = [64, 73, 72]\n",
        "\n",
        "x = np.arange(len(labels))  # the label locations\n",
        "width = 0.35  # the width of the bars\n",
        "\n",
        "fig, ax = plt.subplots()\n",
        "rects1 = ax.bar(x - width/2, men_means, width, label='Men')\n",
        "rects2 = ax.bar(x + width/2, women_means, width, label='Women')\n",
        "\n",
        "# Add some text for labels, title and custom x-axis tick labels, etc.\n",
        "ax.set_ylabel('Scores')\n",
        "ax.set_title('Scores by group and gender')\n",
        "ax.set_xticks(x)\n",
        "ax.set_xticklabels(labels)\n",
        "ax.legend()\n",
        "\n",
        "\n",
        "\n",
        "fig.tight_layout()\n",
        "\n",
        "plt.show()"
      ],
      "id": "LWBV6y1iser8",
      "execution_count": null,
      "outputs": [
        {
          "output_type": "display_data",
          "data": {
            "image/png": "[encoded data removed]",
            "text/plain": [
              "<Figure size 432x288 with 1 Axes>"
            ]
          },
          "metadata": {
            "needs_background": "light"
          }
        }
      ]
    },
    {
      "cell_type": "code",
      "metadata": {
        "id": "y3jIgqFCyCJr"
      },
      "source": [
        ""
      ],
      "id": "y3jIgqFCyCJr",
      "execution_count": null,
      "outputs": []
    }
  ]
}