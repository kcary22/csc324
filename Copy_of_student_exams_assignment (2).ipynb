{
  "nbformat": 4,
  "nbformat_minor": 5,
  "metadata": {
    "kernelspec": {
      "display_name": "Python 3",
      "language": "python",
      "name": "python3"
    },
    "language_info": {
      "codemirror_mode": {
        "name": "ipython",
        "version": 3
      },
      "file_extension": ".py",
      "mimetype": "text/x-python",
      "name": "python",
      "nbconvert_exporter": "python",
      "pygments_lexer": "ipython3",
      "version": "3.8.3"
    },
    "colab": {
      "name": "Copy of student_exams_assignment.ipynb",
      "provenance": [],
      "collapsed_sections": []
    }
  },
  "cells": [
    {
      "cell_type": "code",
      "metadata": {
        "id": "celtic-technique"
      },
      "source": [
        ""
      ],
      "id": "celtic-technique",
      "execution_count": null,
      "outputs": []
    },
    {
      "cell_type": "markdown",
      "metadata": {
        "id": "embedded-blame"
      },
      "source": [
        "## Introduction\n",
        "\n",
        "To know which factor may affect the student's performance, we classify the score into couple of ranks, and figure out which feature affects the score more significant. The independent variables are follow:\n",
        "\n",
        "1. gender : sex of students\n",
        "2. race/ethnicity : ethnicity of students\n",
        "3. parental level of education : parents' final education\n",
        "4. lunch : having lunch before test (normal or abnormal)\n",
        "5. test preparation course : complete or not complete before test"
      ],
      "id": "embedded-blame"
    },
    {
      "cell_type": "code",
      "metadata": {
        "_kg_hide-input": false,
        "_uuid": "67f4eb0b221d82a042603cf5ced2d9121ec55a79",
        "id": "affiliated-emergency"
      },
      "source": [
        "import seaborn as sns\n",
        "import matplotlib.pyplot as plt \n",
        "import os \n",
        "import pandas as pd \n",
        "import numpy as np\n",
        "from sklearn.preprocessing import LabelEncoder\n",
        "from sklearn.cluster import KMeans"
      ],
      "id": "affiliated-emergency",
      "execution_count": 1,
      "outputs": []
    },
    {
      "cell_type": "markdown",
      "metadata": {
        "id": "subsequent-isolation"
      },
      "source": [
        "Let's see how many datasets in this topic."
      ],
      "id": "subsequent-isolation"
    },
    {
      "cell_type": "code",
      "metadata": {
        "id": "declared-theory",
        "colab": {
          "base_uri": "https://localhost:8080/"
        },
        "outputId": "13c2547b-d664-49ea-c4d8-c69225596bd1"
      },
      "source": [
        "os.listdir(\".\")"
      ],
      "id": "declared-theory",
      "execution_count": 2,
      "outputs": [
        {
          "output_type": "execute_result",
          "data": {
            "text/plain": [
              "['.config', 'exam_results.csv', 'sample_data']"
            ]
          },
          "metadata": {},
          "execution_count": 2
        }
      ]
    },
    {
      "cell_type": "markdown",
      "metadata": {
        "_uuid": "c9e96facc35f044491749d60e7994cc9848e9621",
        "id": "canadian-highlight"
      },
      "source": [
        "Only one! Take a look at the dataset.\n"
      ],
      "id": "canadian-highlight"
    },
    {
      "cell_type": "code",
      "metadata": {
        "_kg_hide-input": true,
        "_uuid": "da18ccc6cf02c0fbf13e219512f429f415bdeb0f",
        "id": "instrumental-thesis",
        "colab": {
          "base_uri": "https://localhost:8080/",
          "height": 203
        },
        "outputId": "b6b5a956-520f-4102-9c96-8df4034f7587"
      },
      "source": [
        "filename = \"exam_results.csv\"\n",
        "score_df = pd.read_csv(filename)\n",
        "score_df.head()"
      ],
      "id": "instrumental-thesis",
      "execution_count": 3,
      "outputs": [
        {
          "output_type": "execute_result",
          "data": {
            "text/html": [
              "<div>\n",
              "<style scoped>\n",
              "    .dataframe tbody tr th:only-of-type {\n",
              "        vertical-align: middle;\n",
              "    }\n",
              "\n",
              "    .dataframe tbody tr th {\n",
              "        vertical-align: top;\n",
              "    }\n",
              "\n",
              "    .dataframe thead th {\n",
              "        text-align: right;\n",
              "    }\n",
              "</style>\n",
              "<table border=\"1\" class=\"dataframe\">\n",
              "  <thead>\n",
              "    <tr style=\"text-align: right;\">\n",
              "      <th></th>\n",
              "      <th>gender</th>\n",
              "      <th>race/ethnicity</th>\n",
              "      <th>parental level of education</th>\n",
              "      <th>lunch</th>\n",
              "      <th>test preparation course</th>\n",
              "      <th>math score</th>\n",
              "      <th>reading score</th>\n",
              "      <th>writing score</th>\n",
              "    </tr>\n",
              "  </thead>\n",
              "  <tbody>\n",
              "    <tr>\n",
              "      <th>0</th>\n",
              "      <td>female</td>\n",
              "      <td>group B</td>\n",
              "      <td>bachelor's degree</td>\n",
              "      <td>standard</td>\n",
              "      <td>none</td>\n",
              "      <td>72</td>\n",
              "      <td>72</td>\n",
              "      <td>74</td>\n",
              "    </tr>\n",
              "    <tr>\n",
              "      <th>1</th>\n",
              "      <td>female</td>\n",
              "      <td>group C</td>\n",
              "      <td>some college</td>\n",
              "      <td>standard</td>\n",
              "      <td>completed</td>\n",
              "      <td>69</td>\n",
              "      <td>90</td>\n",
              "      <td>88</td>\n",
              "    </tr>\n",
              "    <tr>\n",
              "      <th>2</th>\n",
              "      <td>female</td>\n",
              "      <td>group B</td>\n",
              "      <td>master's degree</td>\n",
              "      <td>standard</td>\n",
              "      <td>none</td>\n",
              "      <td>90</td>\n",
              "      <td>95</td>\n",
              "      <td>93</td>\n",
              "    </tr>\n",
              "    <tr>\n",
              "      <th>3</th>\n",
              "      <td>male</td>\n",
              "      <td>group A</td>\n",
              "      <td>associate's degree</td>\n",
              "      <td>free/reduced</td>\n",
              "      <td>none</td>\n",
              "      <td>47</td>\n",
              "      <td>57</td>\n",
              "      <td>44</td>\n",
              "    </tr>\n",
              "    <tr>\n",
              "      <th>4</th>\n",
              "      <td>male</td>\n",
              "      <td>group C</td>\n",
              "      <td>some college</td>\n",
              "      <td>standard</td>\n",
              "      <td>none</td>\n",
              "      <td>76</td>\n",
              "      <td>78</td>\n",
              "      <td>75</td>\n",
              "    </tr>\n",
              "  </tbody>\n",
              "</table>\n",
              "</div>"
            ],
            "text/plain": [
              "   gender race/ethnicity  ... reading score writing score\n",
              "0  female        group B  ...            72            74\n",
              "1  female        group C  ...            90            88\n",
              "2  female        group B  ...            95            93\n",
              "3    male        group A  ...            57            44\n",
              "4    male        group C  ...            78            75\n",
              "\n",
              "[5 rows x 8 columns]"
            ]
          },
          "metadata": {},
          "execution_count": 3
        }
      ]
    },
    {
      "cell_type": "markdown",
      "metadata": {
        "id": "8qV72Fj_sP_A"
      },
      "source": [
        "# New Section"
      ],
      "id": "8qV72Fj_sP_A"
    },
    {
      "cell_type": "markdown",
      "metadata": {
        "_uuid": "2f30aea7ac348b3a038ef7a309a2dede61ad677f",
        "id": "suffering-savage"
      },
      "source": [
        "Some column names are too long, rename the column names to be simpler. "
      ],
      "id": "suffering-savage"
    },
    {
      "cell_type": "code",
      "metadata": {
        "_kg_hide-input": true,
        "_uuid": "6c6104c26d8abb0104aac9b38ca1011e1d9cb544",
        "id": "alternative-panic",
        "colab": {
          "base_uri": "https://localhost:8080/",
          "height": 203
        },
        "outputId": "61428b57-dd5b-4220-a63b-304af1bd6563"
      },
      "source": [
        "score_df.rename(columns={\"race/ethnicity\":\"ethnicity\",\"parental level of education\":\"parent_education\"\n",
        "                    ,\"math score\":\"math\",\"reading score\":\"reading\",\"writing score\":\"writing\",\n",
        "                    \"test preparation course\":\"pre\"},inplace=True)\n",
        "score_df.head()"
      ],
      "id": "alternative-panic",
      "execution_count": 4,
      "outputs": [
        {
          "output_type": "execute_result",
          "data": {
            "text/html": [
              "<div>\n",
              "<style scoped>\n",
              "    .dataframe tbody tr th:only-of-type {\n",
              "        vertical-align: middle;\n",
              "    }\n",
              "\n",
              "    .dataframe tbody tr th {\n",
              "        vertical-align: top;\n",
              "    }\n",
              "\n",
              "    .dataframe thead th {\n",
              "        text-align: right;\n",
              "    }\n",
              "</style>\n",
              "<table border=\"1\" class=\"dataframe\">\n",
              "  <thead>\n",
              "    <tr style=\"text-align: right;\">\n",
              "      <th></th>\n",
              "      <th>gender</th>\n",
              "      <th>ethnicity</th>\n",
              "      <th>parent_education</th>\n",
              "      <th>lunch</th>\n",
              "      <th>pre</th>\n",
              "      <th>math</th>\n",
              "      <th>reading</th>\n",
              "      <th>writing</th>\n",
              "    </tr>\n",
              "  </thead>\n",
              "  <tbody>\n",
              "    <tr>\n",
              "      <th>0</th>\n",
              "      <td>female</td>\n",
              "      <td>group B</td>\n",
              "      <td>bachelor's degree</td>\n",
              "      <td>standard</td>\n",
              "      <td>none</td>\n",
              "      <td>72</td>\n",
              "      <td>72</td>\n",
              "      <td>74</td>\n",
              "    </tr>\n",
              "    <tr>\n",
              "      <th>1</th>\n",
              "      <td>female</td>\n",
              "      <td>group C</td>\n",
              "      <td>some college</td>\n",
              "      <td>standard</td>\n",
              "      <td>completed</td>\n",
              "      <td>69</td>\n",
              "      <td>90</td>\n",
              "      <td>88</td>\n",
              "    </tr>\n",
              "    <tr>\n",
              "      <th>2</th>\n",
              "      <td>female</td>\n",
              "      <td>group B</td>\n",
              "      <td>master's degree</td>\n",
              "      <td>standard</td>\n",
              "      <td>none</td>\n",
              "      <td>90</td>\n",
              "      <td>95</td>\n",
              "      <td>93</td>\n",
              "    </tr>\n",
              "    <tr>\n",
              "      <th>3</th>\n",
              "      <td>male</td>\n",
              "      <td>group A</td>\n",
              "      <td>associate's degree</td>\n",
              "      <td>free/reduced</td>\n",
              "      <td>none</td>\n",
              "      <td>47</td>\n",
              "      <td>57</td>\n",
              "      <td>44</td>\n",
              "    </tr>\n",
              "    <tr>\n",
              "      <th>4</th>\n",
              "      <td>male</td>\n",
              "      <td>group C</td>\n",
              "      <td>some college</td>\n",
              "      <td>standard</td>\n",
              "      <td>none</td>\n",
              "      <td>76</td>\n",
              "      <td>78</td>\n",
              "      <td>75</td>\n",
              "    </tr>\n",
              "  </tbody>\n",
              "</table>\n",
              "</div>"
            ],
            "text/plain": [
              "   gender ethnicity    parent_education  ... math reading  writing\n",
              "0  female   group B   bachelor's degree  ...   72      72       74\n",
              "1  female   group C        some college  ...   69      90       88\n",
              "2  female   group B     master's degree  ...   90      95       93\n",
              "3    male   group A  associate's degree  ...   47      57       44\n",
              "4    male   group C        some college  ...   76      78       75\n",
              "\n",
              "[5 rows x 8 columns]"
            ]
          },
          "metadata": {},
          "execution_count": 4
        }
      ]
    },
    {
      "cell_type": "markdown",
      "metadata": {
        "id": "pediatric-miniature"
      },
      "source": [
        "Seems clearly. Check the data type."
      ],
      "id": "pediatric-miniature"
    },
    {
      "cell_type": "code",
      "metadata": {
        "id": "external-example",
        "colab": {
          "base_uri": "https://localhost:8080/"
        },
        "outputId": "23c617da-8825-4590-cc8b-368f0a331319"
      },
      "source": [
        "score_df.dtypes"
      ],
      "id": "external-example",
      "execution_count": 5,
      "outputs": [
        {
          "output_type": "execute_result",
          "data": {
            "text/plain": [
              "gender              object\n",
              "ethnicity           object\n",
              "parent_education    object\n",
              "lunch               object\n",
              "pre                 object\n",
              "math                 int64\n",
              "reading              int64\n",
              "writing              int64\n",
              "dtype: object"
            ]
          },
          "metadata": {},
          "execution_count": 5
        }
      ]
    },
    {
      "cell_type": "markdown",
      "metadata": {
        "id": "classified-powell"
      },
      "source": [
        "Plotting the average scores per gender. Use a Matplotlib Barplot"
      ],
      "id": "classified-powell"
    },
    {
      "cell_type": "markdown",
      "metadata": {
        "id": "metric-sandwich"
      },
      "source": [
        "Plot the average scores per category of \"lunch\" and \"pre\". Use a seaborn boxplot chart."
      ],
      "id": "metric-sandwich"
    },
    {
      "cell_type": "markdown",
      "metadata": {
        "id": "sufficient-engineering"
      },
      "source": [
        ""
      ],
      "id": "sufficient-engineering"
    },
    {
      "cell_type": "code",
      "metadata": {
        "id": "a_QjND3zryGv",
        "colab": {
          "base_uri": "https://localhost:8080/"
        },
        "outputId": "876c3028-effa-4bf1-d97a-32a06634afa2"
      },
      "source": [
        "score_df.groupby(\"gender\")[list(score_df.columns[-3:])[0]].mean()"
      ],
      "id": "a_QjND3zryGv",
      "execution_count": 6,
      "outputs": [
        {
          "output_type": "execute_result",
          "data": {
            "text/plain": [
              "gender\n",
              "female    63.633205\n",
              "male      68.728216\n",
              "Name: math, dtype: float64"
            ]
          },
          "metadata": {},
          "execution_count": 6
        }
      ]
    },
    {
      "cell_type": "code",
      "metadata": {
        "id": "2kYRkjYssNRV",
        "colab": {
          "base_uri": "https://localhost:8080/"
        },
        "outputId": "246c1299-39e8-43e0-9ffc-8637e337b836"
      },
      "source": [
        "score_df.groupby(\"gender\")[list(score_df.columns[-3:])[1]].mean()"
      ],
      "id": "2kYRkjYssNRV",
      "execution_count": 7,
      "outputs": [
        {
          "output_type": "execute_result",
          "data": {
            "text/plain": [
              "gender\n",
              "female    72.608108\n",
              "male      65.473029\n",
              "Name: reading, dtype: float64"
            ]
          },
          "metadata": {},
          "execution_count": 7
        }
      ]
    },
    {
      "cell_type": "code",
      "metadata": {
        "id": "GM5Wdev6sX25",
        "colab": {
          "base_uri": "https://localhost:8080/"
        },
        "outputId": "b543f697-0c30-40ea-881c-8ef04ef90224"
      },
      "source": [
        "score_df.groupby(\"gender\")[list(score_df.columns[-3:])[2]].mean()"
      ],
      "id": "GM5Wdev6sX25",
      "execution_count": 8,
      "outputs": [
        {
          "output_type": "execute_result",
          "data": {
            "text/plain": [
              "gender\n",
              "female    72.467181\n",
              "male      63.311203\n",
              "Name: writing, dtype: float64"
            ]
          },
          "metadata": {},
          "execution_count": 8
        }
      ]
    },
    {
      "cell_type": "code",
      "metadata": {
        "id": "LWBV6y1iser8",
        "colab": {
          "base_uri": "https://localhost:8080/",
          "height": 297
        },
        "outputId": "13b69c4b-572b-48df-eda2-137fd4f532b4"
      },
      "source": [
        "import matplotlib.pyplot as plt\n",
        "import numpy as np\n",
        "\n",
        "\n",
        "labels = ['math', 'reading', 'writing']\n",
        "men_means = [69, 65, 63]\n",
        "women_means = [64, 73, 72]\n",
        "\n",
        "x = np.arange(len(labels))  # the label locations\n",
        "width = 0.35  # the width of the bars\n",
        "\n",
        "fig, ax = plt.subplots()\n",
        "rects1 = ax.bar(x - width/2, men_means, width, label='Men')\n",
        "rects2 = ax.bar(x + width/2, women_means, width, label='Women')\n",
        "\n",
        "# Add some text for labels, title and custom x-axis tick labels, etc.\n",
        "ax.set_ylabel('Scores')\n",
        "ax.set_title('Scores by group and gender')\n",
        "ax.set_xticks(x)\n",
        "ax.set_xticklabels(labels)\n",
        "ax.legend()\n",
        "\n",
        "\n",
        "\n",
        "fig.tight_layout()\n",
        "\n",
        "plt.show()"
      ],
      "id": "LWBV6y1iser8",
      "execution_count": 9,
      "outputs": [
        {
          "output_type": "display_data",
          "data": {
            "image/png": "[encoded data removed]",
            "text/plain": [
              "<Figure size 432x288 with 1 Axes>"
            ]
          },
          "metadata": {
            "needs_background": "light"
          }
        }
      ]
    },
    {
      "cell_type": "markdown",
      "metadata": {
        "id": "DzQsSSd8uzky"
      },
      "source": [
        "As you can see the men are better in the math catagory but worse in both reading and writing"
      ],
      "id": "DzQsSSd8uzky"
    },
    {
      "cell_type": "code",
      "metadata": {
        "id": "y3jIgqFCyCJr",
        "colab": {
          "base_uri": "https://localhost:8080/"
        },
        "outputId": "1e4dd653-1dbe-4d64-ca22-25ac78c45000"
      },
      "source": [
        "score_df.groupby(\"lunch\")['math'].mean()"
      ],
      "id": "y3jIgqFCyCJr",
      "execution_count": 10,
      "outputs": [
        {
          "output_type": "execute_result",
          "data": {
            "text/plain": [
              "lunch\n",
              "free/reduced    58.921127\n",
              "standard        70.034109\n",
              "Name: math, dtype: float64"
            ]
          },
          "metadata": {},
          "execution_count": 10
        }
      ]
    },
    {
      "cell_type": "code",
      "metadata": {
        "id": "zxlDLQLTpipI",
        "colab": {
          "base_uri": "https://localhost:8080/"
        },
        "outputId": "01743fd1-cd71-436c-f53d-952688ad103c"
      },
      "source": [
        "score_df.groupby(\"lunch\")['reading'].mean()"
      ],
      "id": "zxlDLQLTpipI",
      "execution_count": 11,
      "outputs": [
        {
          "output_type": "execute_result",
          "data": {
            "text/plain": [
              "lunch\n",
              "free/reduced    64.653521\n",
              "standard        71.654264\n",
              "Name: reading, dtype: float64"
            ]
          },
          "metadata": {},
          "execution_count": 11
        }
      ]
    },
    {
      "cell_type": "code",
      "metadata": {
        "colab": {
          "base_uri": "https://localhost:8080/"
        },
        "id": "w3HCv-sKsy4X",
        "outputId": "d7238411-61a0-45a2-952c-41acc33c38a5"
      },
      "source": [
        "score_df.groupby(\"lunch\")['writing'].mean()"
      ],
      "id": "w3HCv-sKsy4X",
      "execution_count": 12,
      "outputs": [
        {
          "output_type": "execute_result",
          "data": {
            "text/plain": [
              "lunch\n",
              "free/reduced    63.022535\n",
              "standard        70.823256\n",
              "Name: writing, dtype: float64"
            ]
          },
          "metadata": {},
          "execution_count": 12
        }
      ]
    },
    {
      "cell_type": "code",
      "metadata": {
        "colab": {
          "base_uri": "https://localhost:8080/",
          "height": 851
        },
        "id": "4TLEYy9tvoyg",
        "outputId": "c92b8b2e-47b8-4cec-9520-19773d82500f"
      },
      "source": [
        "for item in score_df.columns[-3:]:\n",
        "    sns.boxplot(x=score_df[\"pre\"], y=score_df[item])\n",
        "    plt.title(item+\" vs pre test\", loc=\"left\")\n",
        "    plt.show()"
      ],
      "id": "4TLEYy9tvoyg",
      "execution_count": 13,
      "outputs": [
        {
          "output_type": "display_data",
          "data": {
            "image/png": "[encoded data removed]",
            "text/plain": [
              "<Figure size 432x288 with 1 Axes>"
            ]
          },
          "metadata": {
            "needs_background": "light"
          }
        },
        {
          "output_type": "display_data",
          "data": {
            "image/png": "[encoded data removed]",
            "text/plain": [
              "<Figure size 432x288 with 1 Axes>"
            ]
          },
          "metadata": {
            "needs_background": "light"
          }
        },
        {
          "output_type": "display_data",
          "data": {
            "image/png": "[encoded data removed]",
            "text/plain": [
              "<Figure size 432x288 with 1 Axes>"
            ]
          },
          "metadata": {
            "needs_background": "light"
          }
        }
      ]
    },
    {
      "cell_type": "markdown",
      "metadata": {
        "id": "PZi52t1kvx0t"
      },
      "source": [
        "As you can see when people complted the pre test their scores were higher.\n"
      ],
      "id": "PZi52t1kvx0t"
    },
    {
      "cell_type": "code",
      "metadata": {
        "colab": {
          "base_uri": "https://localhost:8080/",
          "height": 851
        },
        "id": "wJIKNVwKwL1_",
        "outputId": "a3f979ea-f57c-4def-ff65-cdeb50735275"
      },
      "source": [
        "\n",
        "for item in score_df.columns[-3:]:\n",
        "    sns.boxplot(x=score_df[\"lunch\"], y=score_df[item])\n",
        "    plt.title(item+\" vs lunch\", loc=\"left\")\n",
        "    plt.show()"
      ],
      "id": "wJIKNVwKwL1_",
      "execution_count": 14,
      "outputs": [
        {
          "output_type": "display_data",
          "data": {
            "image/png": "[encoded data removed]",
            "text/plain": [
              "<Figure size 432x288 with 1 Axes>"
            ]
          },
          "metadata": {
            "needs_background": "light"
          }
        },
        {
          "output_type": "display_data",
          "data": {
            "image/png": "[encoded data removed]",
            "text/plain": [
              "<Figure size 432x288 with 1 Axes>"
            ]
          },
          "metadata": {
            "needs_background": "light"
          }
        },
        {
          "output_type": "display_data",
          "data": {
            "image/png": "[encoded data removed]",
            "text/plain": [
              "<Figure size 432x288 with 1 Axes>"
            ]
          },
          "metadata": {
            "needs_background": "light"
          }
        }
      ]
    },
    {
      "cell_type": "markdown",
      "metadata": {
        "id": "V_0fpia5wN7Y"
      },
      "source": [
        "As you can see people with standered lunch did better than thoes without"
      ],
      "id": "V_0fpia5wN7Y"
    }
  ]
}